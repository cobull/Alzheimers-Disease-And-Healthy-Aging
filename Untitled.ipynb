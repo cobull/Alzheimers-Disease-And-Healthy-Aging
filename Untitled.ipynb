{
 "cells": [
  {
   "cell_type": "code",
   "execution_count": null,
   "id": "acd8aeee",
   "metadata": {},
   "outputs": [],
   "source": [
    "import pandas as pd\n",
    "import numpy as np\n",
    "import matplotlib.pyplot as plt\n",
    "import geopandas as gpd\n",
    "from mpl_toolkits.axes_grid1 import make_axes_locatable\n",
    "%matplotlib inline"
   ]
  },
  {
   "cell_type": "code",
   "execution_count": null,
   "id": "e98add14",
   "metadata": {},
   "outputs": [],
   "source": [
    "df = pd.read_csv(\"Data/Alzheimer_s_Disease_and_Healthy_Aging_Data.csv\",\n",
    "                 usecols=[\"YearStart\", \"LocationAbbr\", \"LocationDesc\",\n",
    "                          \"Topic\", \"Question\", \"Data_Value_Type\",\n",
    "                          \"Data_Value\", \"TopicID\", \"StratificationID1\", \n",
    "                          \"StratificationID2\"])"
   ]
  },
  {
   "cell_type": "code",
   "execution_count": null,
   "id": "23a307f3",
   "metadata": {},
   "outputs": [],
   "source": [
    "df = df[(df[\"StratificationID1\"]==\"AGE_OVERALL\")&(df[\"StratificationID2\"]==\"OVERALL\")&(df[\"YearStart\"]==2020)]"
   ]
  },
  {
   "cell_type": "code",
   "execution_count": null,
   "id": "a95306d5",
   "metadata": {},
   "outputs": [],
   "source": [
    "not49 = [\"Midwest\", \"Northeast\", \"West\", \"South\", \"Guam\", \"Hawaii\", \n",
    "        \"United States, DC & Territories\", \"District of Columnbia\", \"Alaska\", \n",
    "        \"Puerto Rico\", \"Virgin Islands\"]"
   ]
  },
  {
   "cell_type": "code",
   "execution_count": null,
   "id": "397eae3b",
   "metadata": {},
   "outputs": [],
   "source": [
    "for x in not49:\n",
    "    df = df[(df[\"LocationDesc\"] != x)]"
   ]
  },
  {
   "cell_type": "code",
   "execution_count": null,
   "id": "ec1ee500",
   "metadata": {},
   "outputs": [],
   "source": [
    "dataframe_collection = {}\n",
    "topic_list = df[\"TopicID\"].unique()\n",
    "for topic in topic_list:\n",
    "    dataframe_collection[topic] = df[df[\"TopicID\"]==topic]"
   ]
  },
  {
   "cell_type": "code",
   "execution_count": null,
   "id": "55a98bf6",
   "metadata": {},
   "outputs": [],
   "source": [
    "dataframe_collection.pop(\"TGC01\")\n",
    "dataframe_collection.pop(\"TSC04\")\n",
    "dataframe_collection.pop(\"TCC02\")\n",
    "dataframe_collection.pop(\"TCC01\")\n",
    "dataframe_collection.pop(\"TGC02\")\n",
    "dataframe_collection.pop(\"TCC04\")\n",
    "dataframe_collection.pop(\"TGC03\")\n",
    "dataframe_collection.pop(\"TCC03\")\n",
    "dataframe_collection.pop(\"TGC04\")\n",
    "dataframe_collection.pop(\"TGC05\")"
   ]
  },
  {
   "cell_type": "code",
   "execution_count": null,
   "id": "a5353393",
   "metadata": {},
   "outputs": [],
   "source": [
    "path = \"Data/tl_2022_us_state/tl_2022_us_state.shp\"\n",
    "map_df = gpd.read_file(path)"
   ]
  },
  {
   "cell_type": "code",
   "execution_count": null,
   "id": "3a885084",
   "metadata": {},
   "outputs": [],
   "source": [
    "non_continental = ['HI','VI','MP','GU','AK','AS','PR']\n",
    "us49 = map_df\n",
    "for n in non_continental:\n",
    "    us49 = us49[us49.STUSPS != n]"
   ]
  },
  {
   "cell_type": "code",
   "execution_count": null,
   "id": "e8f3dd3e",
   "metadata": {},
   "outputs": [],
   "source": [
    "for topic in dataframe_collection.keys():\n",
    "    new_df = dataframe_collection[topic]\n",
    "    new_df2 = new_df[[\"Data_Value\", \"LocationDesc\"]].copy()\n",
    "    new_df2 = new_df2.rename(columns={\"LocationDesc\":\"NAME\"})\n",
    "    new_us49 = us49.merge(new_df2[[\"NAME\", \"Data_Value\"]])\n",
    "\n",
    "    fig, ax = plt.subplots(figsize=(10,10), sharex=True, sharey=True)\n",
    "    ax.set_title(dataframe_collection[topic][\"Question\"].unique()[0])\n",
    "    ax.set_axis_off()\n",
    "    divider = make_axes_locatable(ax)\n",
    "    cax = divider.append_axes(\"right\", size=\"3%\",pad=0,alpha=0.5)\n",
    "    new_us49.plot(\"Data_Value\", ax=ax, cmap=\"summer\", edgecolor=\"k\", legend=True,\n",
    "              legend_kwds={\"label\":dataframe_collection[topic][\"Data_Value_Type\"].unique()[0]}, \n",
    "              cax=cax, linewidth=0.2)\n",
    "    file_name = topic + \".jpg\"\n",
    "    plt.savefig(file_name)"
   ]
  },
  {
   "cell_type": "code",
   "execution_count": null,
   "id": "31b960ab",
   "metadata": {},
   "outputs": [],
   "source": [
    "print(dataframe_collection[\"TSC09\"][\"Question\"].unique()[0])"
   ]
  },
  {
   "cell_type": "code",
   "execution_count": null,
   "id": "5a1ccb47",
   "metadata": {},
   "outputs": [],
   "source": [
    "new_df = dataframe_collection[\"TSC09\"]\n",
    "new_df2 = new_df[[\"Data_Value\", \"LocationDesc\"]].copy()\n",
    "new_df2 = new_df2.rename(columns={\"LocationDesc\":\"NAME\"})\n",
    "new_us49 = us49.merge(new_df2[[\"NAME\", \"Data_Value\"]])\n",
    "\n",
    "fig, ax = plt.subplots(figsize=(10,10), sharex=True, sharey=True)\n",
    "ax.set_title(\"Percentage of at risk adults (have diabetes, asthma, cardiovascular disease or currently smoke)\\nwho ever had a pneumococcal vaccine\")\n",
    "ax.set_axis_off()\n",
    "divider = make_axes_locatable(ax)\n",
    "cax = divider.append_axes(\"right\", size=\"3%\",pad=0,alpha=0.5)\n",
    "new_us49.plot(\"Data_Value\", ax=ax, cmap=\"summer\", edgecolor=\"k\", legend=True,\n",
    "              legend_kwds={\"label\":dataframe_collection[\"TSC09\"][\"Data_Value_Type\"].unique()[0]}, \n",
    "              cax=cax, linewidth=0.2)\n",
    "file_name = \"TSC09new.jpg\"\n",
    "plt.savefig(file_name)"
   ]
  },
  {
   "cell_type": "code",
   "execution_count": null,
   "id": "ae59ad63",
   "metadata": {},
   "outputs": [],
   "source": [
    "print(dataframe_collection[\"TOC10\"][\"Question\"].unique()[0])"
   ]
  },
  {
   "cell_type": "code",
   "execution_count": null,
   "id": "9031b917",
   "metadata": {},
   "outputs": [],
   "source": [
    "new_df = dataframe_collection[\"TOC10\"]\n",
    "new_df2 = new_df[[\"Data_Value\", \"LocationDesc\"]].copy()\n",
    "new_df2 = new_df2.rename(columns={\"LocationDesc\":\"NAME\"})\n",
    "new_us49 = us49.merge(new_df2[[\"NAME\", \"Data_Value\"]])\n",
    "\n",
    "fig, ax = plt.subplots(figsize=(10,10), sharex=True, sharey=True)\n",
    "ax.set_title(\"Percentage of older adults who report having a disability (includes limitations related to sensory or\\nmobility impairments or a physical, mental, or emotional condition)\")\n",
    "ax.set_axis_off()\n",
    "divider = make_axes_locatable(ax)\n",
    "cax = divider.append_axes(\"right\", size=\"3%\",pad=0,alpha=0.5)\n",
    "new_us49.plot(\"Data_Value\", ax=ax, cmap=\"summer\", edgecolor=\"k\", legend=True,\n",
    "              legend_kwds={\"label\":dataframe_collection[\"TOC10\"][\"Data_Value_Type\"].unique()[0]}, \n",
    "              cax=cax, linewidth=0.2)\n",
    "file_name = \"TOC10new.jpg\"\n",
    "plt.savefig(file_name)"
   ]
  },
  {
   "cell_type": "code",
   "execution_count": null,
   "id": "94990f20",
   "metadata": {},
   "outputs": [],
   "source": [
    "print(dataframe_collection[\"TAC01\"][\"Question\"].unique()[0])"
   ]
  },
  {
   "cell_type": "code",
   "execution_count": null,
   "id": "e7e2096a",
   "metadata": {},
   "outputs": [],
   "source": [
    "new_df = dataframe_collection[\"TAC01\"]\n",
    "new_df2 = new_df[[\"Data_Value\", \"LocationDesc\"]].copy()\n",
    "new_df2 = new_df2.rename(columns={\"LocationDesc\":\"NAME\"})\n",
    "new_us49 = us49.merge(new_df2[[\"NAME\", \"Data_Value\"]])\n",
    "\n",
    "fig, ax = plt.subplots(figsize=(10,10), sharex=True, sharey=True)\n",
    "ax.set_title(\"Percentage of older adults who have smoked at least 100 cigarettes in their entire life\\nand still smoke every day or some days\")\n",
    "ax.set_axis_off()\n",
    "divider = make_axes_locatable(ax)\n",
    "cax = divider.append_axes(\"right\", size=\"3%\",pad=0,alpha=0.5)\n",
    "new_us49.plot(\"Data_Value\", ax=ax, cmap=\"summer\", edgecolor=\"k\", legend=True,\n",
    "              legend_kwds={\"label\":dataframe_collection[\"TAC01\"][\"Data_Value_Type\"].unique()[0]}, \n",
    "              cax=cax, linewidth=0.2)\n",
    "file_name = \"TAC01new.jpg\"\n",
    "plt.savefig(file_name)"
   ]
  },
  {
   "cell_type": "code",
   "execution_count": null,
   "id": "358a6d9d",
   "metadata": {},
   "outputs": [],
   "source": [
    "print(dataframe_collection[\"TSC02\"][\"Question\"].unique()[0])"
   ]
  },
  {
   "cell_type": "code",
   "execution_count": null,
   "id": "508ecf7d",
   "metadata": {},
   "outputs": [],
   "source": [
    "new_df = dataframe_collection[\"TSC02\"]\n",
    "new_df2 = new_df[[\"Data_Value\", \"LocationDesc\"]].copy()\n",
    "new_df2 = new_df2.rename(columns={\"LocationDesc\":\"NAME\"})\n",
    "new_us49 = us49.merge(new_df2[[\"NAME\", \"Data_Value\"]])\n",
    "\n",
    "fig, ax = plt.subplots(figsize=(10,10), sharex=True, sharey=True)\n",
    "ax.set_title(\"Percentage of older adults who had either a home blood stool test within the past year\\nor a sigmoidoscopy or colonoscopy within the past 10 years\")\n",
    "ax.set_axis_off()\n",
    "divider = make_axes_locatable(ax)\n",
    "cax = divider.append_axes(\"right\", size=\"3%\",pad=0,alpha=0.5)\n",
    "new_us49.plot(\"Data_Value\", ax=ax, cmap=\"summer\", edgecolor=\"k\", legend=True,\n",
    "              legend_kwds={\"label\":dataframe_collection[\"TSC02\"][\"Data_Value_Type\"].unique()[0]}, \n",
    "              cax=cax, linewidth=0.2)\n",
    "file_name = \"TSC02new.jpg\"\n",
    "plt.savefig(file_name)"
   ]
  },
  {
   "cell_type": "code",
   "execution_count": null,
   "id": "742d0da0",
   "metadata": {},
   "outputs": [],
   "source": []
  }
 ],
 "metadata": {
  "kernelspec": {
   "display_name": "Python 3 (ipykernel)",
   "language": "python",
   "name": "python3"
  },
  "language_info": {
   "codemirror_mode": {
    "name": "ipython",
    "version": 3
   },
   "file_extension": ".py",
   "mimetype": "text/x-python",
   "name": "python",
   "nbconvert_exporter": "python",
   "pygments_lexer": "ipython3",
   "version": "3.9.18"
  }
 },
 "nbformat": 4,
 "nbformat_minor": 5
}
